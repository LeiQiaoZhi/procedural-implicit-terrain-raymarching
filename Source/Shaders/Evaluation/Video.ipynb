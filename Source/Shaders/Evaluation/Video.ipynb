{
 "cells": [
  {
   "cell_type": "code",
   "execution_count": 1,
   "metadata": {},
   "outputs": [],
   "source": [
    "from list_utils import *\n",
    "from moviepy.editor import VideoFileClip, clips_array, TextClip, CompositeVideoClip, concatenate_videoclips\n",
    "from moviepy.config import change_settings\n",
    "change_settings({\"FFMPEG_BINARY\":\"ffmpeg\"})"
   ]
  },
  {
   "cell_type": "code",
   "execution_count": 2,
   "metadata": {},
   "outputs": [],
   "source": [
    "def create_comparison_video(video_tuples, output_path):\n",
    "    # This list will hold all the composite clips to be concatenated at the end.\n",
    "    final_clips = []\n",
    "\n",
    "    # Process each tuple\n",
    "    for index, (video_path1, video_path2) in enumerate(video_tuples, start=1):\n",
    "        # Load the video files\n",
    "        clip1 = VideoFileClip(video_path1, audio=False).margin(\n",
    "            left=20, right=10, top=60, bottom=20\n",
    "        )\n",
    "        clip2 = VideoFileClip(video_path2, audio=False).margin(\n",
    "            left=10, right=20, top=60, bottom=20\n",
    "        )\n",
    "\n",
    "        # Create text labels for each video\n",
    "        txt_clip1 = TextClip(\n",
    "            f\"Q{index} Render A\", fontsize=24, color=\"white\", bg_color=\"black\"\n",
    "        ).set_duration(clip1.duration)\n",
    "        txt_clip1 = txt_clip1.set_position((\"center\", \"top\")).margin(10)\n",
    "\n",
    "        txt_clip2 = TextClip(\n",
    "            f\"Q{index} Render B\", fontsize=24, color=\"white\", bg_color=\"black\"\n",
    "        ).set_duration(clip2.duration)\n",
    "        txt_clip2 = txt_clip2.set_position((\"center\", \"top\")).margin(10)\n",
    "\n",
    "        # Composite text clips with video clips\n",
    "        video_with_text1 = CompositeVideoClip(\n",
    "            [clip1, txt_clip1],\n",
    "            use_bgclip=True,\n",
    "            size=clip1.size \n",
    "            # size=(100, 100)\n",
    "        )\n",
    "        video_with_text2 = CompositeVideoClip(\n",
    "            [clip2, txt_clip2],\n",
    "            use_bgclip=True,\n",
    "            size=clip2.size \n",
    "            # size=(100, 100)\n",
    "        )\n",
    "        # video_with_text1.save_frame(f\"Frames/comparison_{index}_A.png\", t=0)\n",
    "        # video_with_text2.save_frame(f\"Frames/comparison_{index}_B.png\", t=0)\n",
    "        # # Create a title clip\n",
    "        # title = TextClip(\n",
    "        #     f\"Q{index}\", fontsize=36, color=\"white\", bg_color=\"black\"\n",
    "        # ).set_duration(video_with_text1.duration)\n",
    "        # title = title.set_position((\"center\", \"top\")).margin(6)\n",
    "\n",
    "        # Create side-by-side clip\n",
    "        side_by_side = clips_array(\n",
    "            [\n",
    "                # [title, title],\n",
    "                [video_with_text1, video_with_text2]]\n",
    "        )\n",
    "        side_by_side.save_frame(f\"Frames/comparison_{index}_side_by_side.png\", t=0)\n",
    "\n",
    "\n",
    "        # # Overlay the title on the side-by-side clip\n",
    "        # final_clip = CompositeVideoClip([side_by_side, title], use_bgclip=False, size=side_by_side.size)\n",
    "        # # final_clip = clips_array([[title], [side_by_side]], bg_color=\"black\")\n",
    "        # final_clip.save_frame(f\"Frames/comparison_{index}.png\", t=0)\n",
    "\n",
    "        # Append to final clips list\n",
    "        final_clips.append(side_by_side)\n",
    "\n",
    "        # Close the clips to free up resources\n",
    "        clip1.close()\n",
    "        clip2.close()\n",
    "        txt_clip1.close()\n",
    "        txt_clip2.close()\n",
    "        video_with_text1.close()\n",
    "        video_with_text2.close()\n",
    "\n",
    "    # Concatenate all clips into one video\n",
    "    final_video = concatenate_videoclips(final_clips, method=\"compose\")\n",
    "    final_video.write_videofile(\n",
    "        output_path,\n",
    "        # codec=\"h264_nvenc\",  # Using NVENC encoder\n",
    "        codec=\"libx264\",  # Using x264 encoder\n",
    "        preset=\"ultrafast\",\n",
    "        threads=16,\n",
    "        fps=24,\n",
    "        audio=False,\n",
    "        verbose=False,\n",
    "        # logger=None,\n",
    "    )\n",
    "    for clip in final_clips:\n",
    "        clip.close()\n",
    "    final_video.close()"
   ]
  },
  {
   "cell_type": "markdown",
   "metadata": {},
   "source": [
    "# Constants"
   ]
  },
  {
   "cell_type": "code",
   "execution_count": 3,
   "metadata": {},
   "outputs": [],
   "source": [
    "VIDEO_PATH = r\"C:\\Users\\user\\Documents\\George\\CPP_Projects\\Procedural_Implicit_Terrain_Raymarching\\Images\\Eval\\Videos\" + \"\\\\\";\n",
    "SCENE = 5\n",
    "ORDER_LIST_PATH = f\"./Video_Oders/{SCENE}-ORDER.txt\""
   ]
  },
  {
   "cell_type": "code",
   "execution_count": 4,
   "metadata": {},
   "outputs": [
    {
     "name": "stdout",
     "output_type": "stream",
     "text": [
      "[('5FF', '5FT'), ('5FF', '5TF'), ('5FF', '5TT'), ('5FT', '5TF'), ('5FT', '5TT'), ('5TF', '5TT')]\n",
      "[('5FF', '5TF'), ('5FF', '5FT'), ('5FT', '5TF'), ('5TF', '5TT'), ('5FF', '5TT'), ('5FT', '5TT')]\n",
      "[('5FF', '5TF'), ('5FF', '5FT'), ('5FT', '5TF'), ('5TF', '5TT'), ('5FF', '5TT'), ('5FT', '5TT')]\n",
      "[('C:\\\\Users\\\\user\\\\Documents\\\\George\\\\CPP_Projects\\\\Procedural_Implicit_Terrain_Raymarching\\\\Images\\\\Eval\\\\Videos\\\\5FF.mp4', 'C:\\\\Users\\\\user\\\\Documents\\\\George\\\\CPP_Projects\\\\Procedural_Implicit_Terrain_Raymarching\\\\Images\\\\Eval\\\\Videos\\\\5TF.mp4'), ('C:\\\\Users\\\\user\\\\Documents\\\\George\\\\CPP_Projects\\\\Procedural_Implicit_Terrain_Raymarching\\\\Images\\\\Eval\\\\Videos\\\\5FF.mp4', 'C:\\\\Users\\\\user\\\\Documents\\\\George\\\\CPP_Projects\\\\Procedural_Implicit_Terrain_Raymarching\\\\Images\\\\Eval\\\\Videos\\\\5FT.mp4'), ('C:\\\\Users\\\\user\\\\Documents\\\\George\\\\CPP_Projects\\\\Procedural_Implicit_Terrain_Raymarching\\\\Images\\\\Eval\\\\Videos\\\\5FT.mp4', 'C:\\\\Users\\\\user\\\\Documents\\\\George\\\\CPP_Projects\\\\Procedural_Implicit_Terrain_Raymarching\\\\Images\\\\Eval\\\\Videos\\\\5TF.mp4'), ('C:\\\\Users\\\\user\\\\Documents\\\\George\\\\CPP_Projects\\\\Procedural_Implicit_Terrain_Raymarching\\\\Images\\\\Eval\\\\Videos\\\\5TF.mp4', 'C:\\\\Users\\\\user\\\\Documents\\\\George\\\\CPP_Projects\\\\Procedural_Implicit_Terrain_Raymarching\\\\Images\\\\Eval\\\\Videos\\\\5TT.mp4'), ('C:\\\\Users\\\\user\\\\Documents\\\\George\\\\CPP_Projects\\\\Procedural_Implicit_Terrain_Raymarching\\\\Images\\\\Eval\\\\Videos\\\\5FF.mp4', 'C:\\\\Users\\\\user\\\\Documents\\\\George\\\\CPP_Projects\\\\Procedural_Implicit_Terrain_Raymarching\\\\Images\\\\Eval\\\\Videos\\\\5TT.mp4'), ('C:\\\\Users\\\\user\\\\Documents\\\\George\\\\CPP_Projects\\\\Procedural_Implicit_Terrain_Raymarching\\\\Images\\\\Eval\\\\Videos\\\\5FT.mp4', 'C:\\\\Users\\\\user\\\\Documents\\\\George\\\\CPP_Projects\\\\Procedural_Implicit_Terrain_Raymarching\\\\Images\\\\Eval\\\\Videos\\\\5TT.mp4')]\n"
     ]
    }
   ],
   "source": [
    "import itertools\n",
    "import random\n",
    "\n",
    "names = [f\"{SCENE}{i}{j}\" for i in [\"F\",\"T\"] for j in [\"F\", \"T\"]]\n",
    "\n",
    "pairwise_combinations = list(itertools.combinations(names, 2))\n",
    "print(pairwise_combinations)\n",
    "\n",
    "random.seed(SCENE)\n",
    "\n",
    "random.shuffle(pairwise_combinations)\n",
    "print(pairwise_combinations)\n",
    "save_list(ORDER_LIST_PATH, pairwise_combinations)\n",
    "\n",
    "print(load_list(ORDER_LIST_PATH))\n",
    "\n",
    "paths = [(VIDEO_PATH + name1 + \".mp4\", VIDEO_PATH + name2 + \".mp4\") for name1, name2 in pairwise_combinations]\n",
    "print(paths)\n"
   ]
  },
  {
   "cell_type": "code",
   "execution_count": 5,
   "metadata": {},
   "outputs": [
    {
     "name": "stdout",
     "output_type": "stream",
     "text": [
      "Moviepy - Building video ./Videos/Comparison_5.mp4.\n",
      "Moviepy - Writing video ./Videos/Comparison_5.mp4\n",
      "\n"
     ]
    },
    {
     "name": "stderr",
     "output_type": "stream",
     "text": [
      "                                                                "
     ]
    },
    {
     "name": "stdout",
     "output_type": "stream",
     "text": [
      "Moviepy - Done !\n",
      "Moviepy - video ready ./Videos/Comparison_5.mp4\n"
     ]
    },
    {
     "name": "stderr",
     "output_type": "stream",
     "text": [
      "\r"
     ]
    },
    {
     "ename": "",
     "evalue": "",
     "output_type": "error",
     "traceback": [
      "\u001b[1;31mThe Kernel crashed while executing code in the current cell or a previous cell. \n",
      "\u001b[1;31mPlease review the code in the cell(s) to identify a possible cause of the failure. \n",
      "\u001b[1;31mClick <a href='https://aka.ms/vscodeJupyterKernelCrash'>here</a> for more info. \n",
      "\u001b[1;31mView Jupyter <a href='command:jupyter.viewOutput'>log</a> for further details."
     ]
    }
   ],
   "source": [
    "create_comparison_video(paths, f\"./Videos/Comparison_{SCENE}.mp4\")"
   ]
  }
 ],
 "metadata": {
  "kernelspec": {
   "display_name": "Python 3",
   "language": "python",
   "name": "python3"
  },
  "language_info": {
   "codemirror_mode": {
    "name": "ipython",
    "version": 3
   },
   "file_extension": ".py",
   "mimetype": "text/x-python",
   "name": "python",
   "nbconvert_exporter": "python",
   "pygments_lexer": "ipython3",
   "version": "3.12.2"
  }
 },
 "nbformat": 4,
 "nbformat_minor": 2
}
