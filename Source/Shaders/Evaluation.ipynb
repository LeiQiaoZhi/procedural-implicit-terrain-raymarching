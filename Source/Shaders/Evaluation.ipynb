{
  "cells": [
    {
      "cell_type": "markdown",
      "metadata": {},
      "source": [
        "# Evaluation -- Visual Correctness"
      ]
    },
    {
      "cell_type": "code",
      "execution_count": 2,
      "metadata": {
        "id": "Hpagf8uZkKO0"
      },
      "outputs": [],
      "source": [
        "from PIL import Image\n",
        "import numpy as np"
      ]
    },
    {
      "cell_type": "markdown",
      "metadata": {},
      "source": [
        "## Naive Encoding\n",
        "\n",
        "Compress the value and store it in an image channel. \n",
        "\n",
        "Good for visual debugging, but not precise."
      ]
    },
    {
      "cell_type": "code",
      "execution_count": 3,
      "metadata": {
        "id": "TWwO5sIAmw-g"
      },
      "outputs": [],
      "source": [
        "def process_image_red_component(image_path, max_value):\n",
        "    # Load the image\n",
        "    img = Image.open(image_path)\n",
        "    img_array = np.array(img)\n",
        "\n",
        "    # Extract the red component, scale it, and multiply by max_value\n",
        "    red_component = img_array[:, :, 0] / 255 * max_value\n",
        "\n",
        "    # Calculate the average\n",
        "    average_red = np.mean(red_component)\n",
        "    return average_red"
      ]
    },
    {
      "cell_type": "code",
      "execution_count": 4,
      "metadata": {},
      "outputs": [
        {
          "name": "stdout",
          "output_type": "stream",
          "text": [
            "Ray March Precision for eval_test: 2.4886300957650773\n",
            "Ray March Precision for eval_test_bs4: 0.48355977339032485\n"
          ]
        }
      ],
      "source": [
        "eval_path = r\"C:\\Users\\user\\Documents\\George\\CPP_Projects\\Procedural_Implicit_Terrain_Raymarching\\Images\\Eval\"\n",
        "image_names = [\n",
        "    \"eval_test\",\n",
        "    \"eval_test_bs4\"\n",
        "]\n",
        "quantity_name = \"Ray March Precision\"\n",
        "\n",
        "for image_name in image_names:\n",
        "    image_path = f\"{eval_path}\\\\{image_name}.png\"\n",
        "    average_red = process_image_red_component(image_path, 100)\n",
        "    print(f\"{quantity_name} for {image_name}: {average_red}\")\n"
      ]
    },
    {
      "cell_type": "markdown",
      "metadata": {},
      "source": [
        "## Decode\n",
        "\n",
        "Decode every vec4 (RGBA) as a float. "
      ]
    },
    {
      "cell_type": "code",
      "execution_count": 5,
      "metadata": {},
      "outputs": [],
      "source": [
        "def decode(png_file_path):\n",
        "    # Load the image using PIL\n",
        "    img = Image.open(png_file_path)\n",
        "    # Convert the image to RGBA (in case it's not)\n",
        "    img_rgba = img.convert(\"RGBA\")\n",
        "\n",
        "    # Convert the image to a numpy array\n",
        "    data = np.array(img_rgba, dtype=np.uint32)\n",
        "\n",
        "    # Perform the equivalent operation of the GLSL function\n",
        "    # Shift and combine RGBA components\n",
        "    ivalue = (data[:, :, 0] |\n",
        "              (data[:, :, 1] << 8) |\n",
        "              (data[:, :, 2] << 16) |\n",
        "              (data[:, :, 3] << 24))\n",
        "\n",
        "    # Interpret the integer bits as floats\n",
        "    floats = np.frombuffer(ivalue.tobytes(), dtype=np.float32)\n",
        "    floats = floats.reshape(ivalue.shape)\n",
        "\n",
        "    return floats"
      ]
    },
    {
      "cell_type": "markdown",
      "metadata": {},
      "source": [
        "Turn decoded values back to an image using the naive visual encoding, to make sure the encoding is correct:"
      ]
    },
    {
      "cell_type": "code",
      "execution_count": 8,
      "metadata": {},
      "outputs": [],
      "source": [
        "def decoded_IDE_to_image(float_matrix):\n",
        "    # Initialize an empty image with the same dimensions and RGBA format\n",
        "    img_data = np.zeros((float_matrix.shape[0], float_matrix.shape[1], 4), dtype=np.uint8)\n",
        "\n",
        "    # Iterate over each element in the float matrix\n",
        "    for i in range(float_matrix.shape[0]):\n",
        "        for j in range(float_matrix.shape[1]):\n",
        "            value = float_matrix[i, j]\n",
        "\n",
        "            # Handling edge cases\n",
        "            if value == -100:\n",
        "                # Blue color for -100\n",
        "                img_data[i, j] = [0, 0, 255, 255]  # RGBA\n",
        "            elif value == -1:\n",
        "                # Red color for -1\n",
        "                img_data[i, j] = [255, 0, 0, 255]  # RGBA\n",
        "            else:\n",
        "                # Normal case: scale by 1/1000\n",
        "                scaled_value = int(min(max(value / 1000, 0), 1) * 255)\n",
        "                img_data[i, j] = [scaled_value, scaled_value, scaled_value, 255]  # RGBA\n",
        "\n",
        "    # Create an image from the numpy array\n",
        "    img = Image.fromarray(img_data, 'RGBA')\n",
        "    return img"
      ]
    },
    {
      "cell_type": "code",
      "execution_count": 9,
      "metadata": {},
      "outputs": [],
      "source": [
        "image_path = f\"{eval_path}\\\\encoded.png\"\n",
        "decoded = decode(image_path)"
      ]
    },
    {
      "cell_type": "code",
      "execution_count": 12,
      "metadata": {},
      "outputs": [
        {
          "data": {
            "image/png": "[encoded data removed]",
            "text/plain": [
              "<PIL.Image.Image image mode=RGBA size=640x480>"
            ]
          },
          "execution_count": 12,
          "metadata": {},
          "output_type": "execute_result"
        }
      ],
      "source": [
        "image = decoded_IDE_to_image(decoded)\n",
        "image"
      ]
    },
    {
      "cell_type": "markdown",
      "metadata": {},
      "source": [
        "## Intersection Distance Error (IDE)"
      ]
    },
    {
      "cell_type": "code",
      "execution_count": 23,
      "metadata": {},
      "outputs": [
        {
          "name": "stdout",
          "output_type": "stream",
          "text": [
            "Among 307200 pixels:\n",
            "Number of missed intersections (-1): 475\n",
            "Number of no intersections (-100): 61934\n",
            "Average IDE value: 36.72679138183594\n",
            "Lowest IDE value: 6.103515625e-05\n",
            "Highest IDE value: 70548.4609375\n"
          ]
        }
      ],
      "source": [
        "image_path = f\"{eval_path}\\\\encoded.png\"\n",
        "decoded = decode(image_path)\n",
        "\n",
        "total_pixels = decoded.size\n",
        "\n",
        "# count the number of -1 and -100 values\n",
        "num_missed_intersections = np.sum(decoded == -1)\n",
        "num_no_intersection = np.sum(decoded == -100)\n",
        "\n",
        "# average the positive values\n",
        "positive_values = decoded[decoded > 0]\n",
        "average_IDE = np.mean(positive_values)\n",
        "highest_value = np.max(positive_values)\n",
        "lowest_value = np.min(positive_values)\n",
        "\n",
        "print((\n",
        "    f\"Among {total_pixels} pixels:\\n\"\n",
        "    f\"Number of missed intersections (-1): {num_missed_intersections}\\n\"\n",
        "    f\"Number of no intersections (-100): {num_no_intersection}\\n\"\n",
        "    f\"Average IDE value: {average_IDE}\\n\"\n",
        "    f\"Lowest IDE value: {lowest_value}\\n\"\n",
        "    f\"Highest IDE value: {highest_value}\"\n",
        "))"
      ]
    },
    {
      "cell_type": "markdown",
      "metadata": {},
      "source": [
        "Test whether the encoding is correct:"
      ]
    },
    {
      "cell_type": "code",
      "execution_count": 24,
      "metadata": {},
      "outputs": [
        {
          "name": "stdout",
          "output_type": "stream",
          "text": [
            "Number of red pixels: 475\n"
          ]
        },
        {
          "data": {
            "image/png": "[encoded data removed]",
            "text/plain": [
              "<PIL.PngImagePlugin.PngImageFile image mode=RGBA size=640x480>"
            ]
          },
          "execution_count": 24,
          "metadata": {},
          "output_type": "execute_result"
        }
      ],
      "source": [
        "image_path = f\"{eval_path}\\\\visual.png\"\n",
        "img = Image.open(image_path)\n",
        "img_rgba = img.convert(\"RGBA\")\n",
        "data = np.array(img_rgba, dtype=np.uint32)\n",
        "\n",
        "# count number of purely red pixels, no green, no blue\n",
        "num_red_pixels = np.sum((data[:, :, 0] == 208) & (data[:, :, 1] == 70) & (data[:, :, 2] == 70))\n",
        "print(f\"Number of red pixels: {num_red_pixels}\")\n",
        "img"
      ]
    }
  ],
  "metadata": {
    "colab": {
      "provenance": []
    },
    "kernelspec": {
      "display_name": "Python 3",
      "name": "python3"
    },
    "language_info": {
      "codemirror_mode": {
        "name": "ipython",
        "version": 3
      },
      "file_extension": ".py",
      "mimetype": "text/x-python",
      "name": "python",
      "nbconvert_exporter": "python",
      "pygments_lexer": "ipython3",
      "version": "3.12.2"
    },
    "widgets": {
      "application/vnd.jupyter.widget-state+json": {
        "07c30684914d4d838ffe6120dd19ef9b": {
          "model_module": "@jupyter-widgets/controls",
          "model_module_version": "1.5.0",
          "model_name": "FloatSliderModel",
          "state": {
            "_dom_classes": [],
            "_model_module": "@jupyter-widgets/controls",
            "_model_module_version": "1.5.0",
            "_model_name": "FloatSliderModel",
            "_view_count": null,
            "_view_module": "@jupyter-widgets/controls",
            "_view_module_version": "1.5.0",
            "_view_name": "FloatSliderView",
            "continuous_update": true,
            "description": "Max Distance:",
            "description_tooltip": null,
            "disabled": false,
            "layout": "IPY_MODEL_db9e69e9058245cfb1228af8e78d2282",
            "max": 20000,
            "min": 0,
            "orientation": "horizontal",
            "readout": true,
            "readout_format": ".2f",
            "step": 1,
            "style": "IPY_MODEL_c990a7e0bfa14ba3bfe06028447b674e",
            "value": 7687
          }
        },
        "16854610a26e49a2bf70ac7a8d320fb0": {
          "model_module": "@jupyter-widgets/controls",
          "model_module_version": "1.5.0",
          "model_name": "SliderStyleModel",
          "state": {
            "_model_module": "@jupyter-widgets/controls",
            "_model_module_version": "1.5.0",
            "_model_name": "SliderStyleModel",
            "_view_count": null,
            "_view_module": "@jupyter-widgets/base",
            "_view_module_version": "1.2.0",
            "_view_name": "StyleView",
            "description_width": "",
            "handle_color": null
          }
        },
        "25354dc565e74b3ab3616db8c255145a": {
          "model_module": "@jupyter-widgets/base",
          "model_module_version": "1.2.0",
          "model_name": "LayoutModel",
          "state": {
            "_model_module": "@jupyter-widgets/base",
            "_model_module_version": "1.2.0",
            "_model_name": "LayoutModel",
            "_view_count": null,
            "_view_module": "@jupyter-widgets/base",
            "_view_module_version": "1.2.0",
            "_view_name": "LayoutView",
            "align_content": null,
            "align_items": null,
            "align_self": null,
            "border": null,
            "bottom": null,
            "display": null,
            "flex": null,
            "flex_flow": null,
            "grid_area": null,
            "grid_auto_columns": null,
            "grid_auto_flow": null,
            "grid_auto_rows": null,
            "grid_column": null,
            "grid_gap": null,
            "grid_row": null,
            "grid_template_areas": null,
            "grid_template_columns": null,
            "grid_template_rows": null,
            "height": null,
            "justify_content": null,
            "justify_items": null,
            "left": null,
            "margin": null,
            "max_height": null,
            "max_width": null,
            "min_height": null,
            "min_width": null,
            "object_fit": null,
            "object_position": null,
            "order": null,
            "overflow": null,
            "overflow_x": null,
            "overflow_y": null,
            "padding": null,
            "right": null,
            "top": null,
            "visibility": null,
            "width": null
          }
        },
        "26131f6b2fcd4d4785eeb588858bc78c": {
          "model_module": "@jupyter-widgets/controls",
          "model_module_version": "1.5.0",
          "model_name": "SliderStyleModel",
          "state": {
            "_model_module": "@jupyter-widgets/controls",
            "_model_module_version": "1.5.0",
            "_model_name": "SliderStyleModel",
            "_view_count": null,
            "_view_module": "@jupyter-widgets/base",
            "_view_module_version": "1.2.0",
            "_view_name": "StyleView",
            "description_width": "",
            "handle_color": null
          }
        },
        "41e8e4dfb2ce48b6a3d7c8023b6ed4b1": {
          "model_module": "@jupyter-widgets/base",
          "model_module_version": "1.2.0",
          "model_name": "LayoutModel",
          "state": {
            "_model_module": "@jupyter-widgets/base",
            "_model_module_version": "1.2.0",
            "_model_name": "LayoutModel",
            "_view_count": null,
            "_view_module": "@jupyter-widgets/base",
            "_view_module_version": "1.2.0",
            "_view_name": "LayoutView",
            "align_content": null,
            "align_items": null,
            "align_self": null,
            "border": null,
            "bottom": null,
            "display": null,
            "flex": null,
            "flex_flow": null,
            "grid_area": null,
            "grid_auto_columns": null,
            "grid_auto_flow": null,
            "grid_auto_rows": null,
            "grid_column": null,
            "grid_gap": null,
            "grid_row": null,
            "grid_template_areas": null,
            "grid_template_columns": null,
            "grid_template_rows": null,
            "height": null,
            "justify_content": null,
            "justify_items": null,
            "left": null,
            "margin": null,
            "max_height": null,
            "max_width": null,
            "min_height": null,
            "min_width": null,
            "object_fit": null,
            "object_position": null,
            "order": null,
            "overflow": null,
            "overflow_x": null,
            "overflow_y": null,
            "padding": null,
            "right": null,
            "top": null,
            "visibility": null,
            "width": null
          }
        },
        "54a09d40fd8441fd9e40d288eb3f18f7": {
          "model_module": "@jupyter-widgets/controls",
          "model_module_version": "1.5.0",
          "model_name": "VBoxModel",
          "state": {
            "_dom_classes": [
              "widget-interact"
            ],
            "_model_module": "@jupyter-widgets/controls",
            "_model_module_version": "1.5.0",
            "_model_name": "VBoxModel",
            "_view_count": null,
            "_view_module": "@jupyter-widgets/controls",
            "_view_module_version": "1.5.0",
            "_view_name": "VBoxView",
            "box_style": "",
            "children": [
              "IPY_MODEL_9f7555a11a8145659e9b6ff74536cd46",
              "IPY_MODEL_e1a4e945a084457484a7aaf630f8bc20",
              "IPY_MODEL_07c30684914d4d838ffe6120dd19ef9b",
              "IPY_MODEL_8e21d394e0464e34bfbce9b6675c5bfe"
            ],
            "layout": "IPY_MODEL_c2538e1067014034862d985db24c3fce"
          }
        },
        "8e21d394e0464e34bfbce9b6675c5bfe": {
          "model_module": "@jupyter-widgets/output",
          "model_module_version": "1.0.0",
          "model_name": "OutputModel",
          "state": {
            "_dom_classes": [],
            "_model_module": "@jupyter-widgets/output",
            "_model_module_version": "1.0.0",
            "_model_name": "OutputModel",
            "_view_count": null,
            "_view_module": "@jupyter-widgets/output",
            "_view_module_version": "1.0.0",
            "_view_name": "OutputView",
            "layout": "IPY_MODEL_41e8e4dfb2ce48b6a3d7c8023b6ed4b1",
            "msg_id": "",
            "outputs": [
              {
                "data": {
                  "image/png": "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\n",
                  "text/plain": "<Figure size 1000x400 with 1 Axes>"
                },
                "metadata": {},
                "output_type": "display_data"
              }
            ]
          }
        },
        "9f7555a11a8145659e9b6ff74536cd46": {
          "model_module": "@jupyter-widgets/controls",
          "model_module_version": "1.5.0",
          "model_name": "FloatSliderModel",
          "state": {
            "_dom_classes": [],
            "_model_module": "@jupyter-widgets/controls",
            "_model_module_version": "1.5.0",
            "_model_name": "FloatSliderModel",
            "_view_count": null,
            "_view_module": "@jupyter-widgets/controls",
            "_view_module_version": "1.5.0",
            "_view_name": "FloatSliderView",
            "continuous_update": true,
            "description": "Start Step Size:",
            "description_tooltip": null,
            "disabled": false,
            "layout": "IPY_MODEL_b994e247c2d7473982624bc2e62c28e9",
            "max": 200,
            "min": 0,
            "orientation": "horizontal",
            "readout": true,
            "readout_format": ".2f",
            "step": 0.1,
            "style": "IPY_MODEL_26131f6b2fcd4d4785eeb588858bc78c",
            "value": 30.7
          }
        },
        "b994e247c2d7473982624bc2e62c28e9": {
          "model_module": "@jupyter-widgets/base",
          "model_module_version": "1.2.0",
          "model_name": "LayoutModel",
          "state": {
            "_model_module": "@jupyter-widgets/base",
            "_model_module_version": "1.2.0",
            "_model_name": "LayoutModel",
            "_view_count": null,
            "_view_module": "@jupyter-widgets/base",
            "_view_module_version": "1.2.0",
            "_view_name": "LayoutView",
            "align_content": null,
            "align_items": null,
            "align_self": null,
            "border": null,
            "bottom": null,
            "display": null,
            "flex": null,
            "flex_flow": null,
            "grid_area": null,
            "grid_auto_columns": null,
            "grid_auto_flow": null,
            "grid_auto_rows": null,
            "grid_column": null,
            "grid_gap": null,
            "grid_row": null,
            "grid_template_areas": null,
            "grid_template_columns": null,
            "grid_template_rows": null,
            "height": null,
            "justify_content": null,
            "justify_items": null,
            "left": null,
            "margin": null,
            "max_height": null,
            "max_width": null,
            "min_height": null,
            "min_width": null,
            "object_fit": null,
            "object_position": null,
            "order": null,
            "overflow": null,
            "overflow_x": null,
            "overflow_y": null,
            "padding": null,
            "right": null,
            "top": null,
            "visibility": null,
            "width": null
          }
        },
        "c2538e1067014034862d985db24c3fce": {
          "model_module": "@jupyter-widgets/base",
          "model_module_version": "1.2.0",
          "model_name": "LayoutModel",
          "state": {
            "_model_module": "@jupyter-widgets/base",
            "_model_module_version": "1.2.0",
            "_model_name": "LayoutModel",
            "_view_count": null,
            "_view_module": "@jupyter-widgets/base",
            "_view_module_version": "1.2.0",
            "_view_name": "LayoutView",
            "align_content": null,
            "align_items": null,
            "align_self": null,
            "border": null,
            "bottom": null,
            "display": null,
            "flex": null,
            "flex_flow": null,
            "grid_area": null,
            "grid_auto_columns": null,
            "grid_auto_flow": null,
            "grid_auto_rows": null,
            "grid_column": null,
            "grid_gap": null,
            "grid_row": null,
            "grid_template_areas": null,
            "grid_template_columns": null,
            "grid_template_rows": null,
            "height": null,
            "justify_content": null,
            "justify_items": null,
            "left": null,
            "margin": null,
            "max_height": null,
            "max_width": null,
            "min_height": null,
            "min_width": null,
            "object_fit": null,
            "object_position": null,
            "order": null,
            "overflow": null,
            "overflow_x": null,
            "overflow_y": null,
            "padding": null,
            "right": null,
            "top": null,
            "visibility": null,
            "width": null
          }
        },
        "c990a7e0bfa14ba3bfe06028447b674e": {
          "model_module": "@jupyter-widgets/controls",
          "model_module_version": "1.5.0",
          "model_name": "SliderStyleModel",
          "state": {
            "_model_module": "@jupyter-widgets/controls",
            "_model_module_version": "1.5.0",
            "_model_name": "SliderStyleModel",
            "_view_count": null,
            "_view_module": "@jupyter-widgets/base",
            "_view_module_version": "1.2.0",
            "_view_name": "StyleView",
            "description_width": "",
            "handle_color": null
          }
        },
        "db9e69e9058245cfb1228af8e78d2282": {
          "model_module": "@jupyter-widgets/base",
          "model_module_version": "1.2.0",
          "model_name": "LayoutModel",
          "state": {
            "_model_module": "@jupyter-widgets/base",
            "_model_module_version": "1.2.0",
            "_model_name": "LayoutModel",
            "_view_count": null,
            "_view_module": "@jupyter-widgets/base",
            "_view_module_version": "1.2.0",
            "_view_name": "LayoutView",
            "align_content": null,
            "align_items": null,
            "align_self": null,
            "border": null,
            "bottom": null,
            "display": null,
            "flex": null,
            "flex_flow": null,
            "grid_area": null,
            "grid_auto_columns": null,
            "grid_auto_flow": null,
            "grid_auto_rows": null,
            "grid_column": null,
            "grid_gap": null,
            "grid_row": null,
            "grid_template_areas": null,
            "grid_template_columns": null,
            "grid_template_rows": null,
            "height": null,
            "justify_content": null,
            "justify_items": null,
            "left": null,
            "margin": null,
            "max_height": null,
            "max_width": null,
            "min_height": null,
            "min_width": null,
            "object_fit": null,
            "object_position": null,
            "order": null,
            "overflow": null,
            "overflow_x": null,
            "overflow_y": null,
            "padding": null,
            "right": null,
            "top": null,
            "visibility": null,
            "width": null
          }
        },
        "e1a4e945a084457484a7aaf630f8bc20": {
          "model_module": "@jupyter-widgets/controls",
          "model_module_version": "1.5.0",
          "model_name": "FloatSliderModel",
          "state": {
            "_dom_classes": [],
            "_model_module": "@jupyter-widgets/controls",
            "_model_module_version": "1.5.0",
            "_model_name": "FloatSliderModel",
            "_view_count": null,
            "_view_module": "@jupyter-widgets/controls",
            "_view_module_version": "1.5.0",
            "_view_name": "FloatSliderView",
            "continuous_update": true,
            "description": "Ratio:",
            "description_tooltip": null,
            "disabled": false,
            "layout": "IPY_MODEL_25354dc565e74b3ab3616db8c255145a",
            "max": 20,
            "min": 0,
            "orientation": "horizontal",
            "readout": true,
            "readout_format": ".2f",
            "step": 0.1,
            "style": "IPY_MODEL_16854610a26e49a2bf70ac7a8d320fb0",
            "value": 1
          }
        }
      }
    }
  },
  "nbformat": 4,
  "nbformat_minor": 0
}
